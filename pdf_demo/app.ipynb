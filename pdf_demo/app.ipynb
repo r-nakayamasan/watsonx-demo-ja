{
 "cells": [
  {
   "cell_type": "code",
   "execution_count": null,
   "id": "ecec9f11",
   "metadata": {},
   "outputs": [],
   "source": [
    "import os\n",
    "import requests\n",
    "import gradio as gr\n",
    "from langchain.text_splitter import RecursiveCharacterTextSplitter\n",
    "from langchain.embeddings import HuggingFaceEmbeddings\n",
    "from langchain.chains import RetrievalQA\n",
    "from genai.extensions.langchain import LangChainInterface\n",
    "from langchain.document_loaders import UnstructuredPDFLoader\n",
    "from langchain.text_splitter import CharacterTextSplitter\n",
    "from langchain.indexes import VectorstoreIndexCreator\n",
    "from genai.model import Credentials, Model\n",
    "from genai.schemas import GenerateParams, ModelType\n",
    "from langchain.vectorstores.faiss import FAISS\n",
    "from transformers import AutoModelForCausalLM, AutoTokenizer, BitsAndBytesConfig, pipeline\n",
    "import torch\n",
    "from langchain.document_loaders import TextLoader\n",
    "from langchain.vectorstores import Chroma\n",
    "from langchain import PromptTemplate, LLMChain"
   ]
  },
  {
   "cell_type": "code",
   "execution_count": null,
   "id": "75ea4b51",
   "metadata": {},
   "outputs": [],
   "source": [
    "#使用するPDF\n",
    "\n",
    "pdf_folder_path = './pdfs'\n",
    "os.listdir(pdf_folder_path)"
   ]
  },
  {
   "cell_type": "code",
   "execution_count": null,
   "id": "54dddb9c",
   "metadata": {},
   "outputs": [],
   "source": [
    "#変更できる変数\n",
    "chunk_limit = 500\n",
    "chunk_overlap = 500\n",
    "\n",
    "#ベクターストアの場所\n",
    "vec = \"article_\" +  str(chunk_limit) + \"_\" + str(chunk_overlap)\n",
    "persist_directory=\"vec/\" + vec"
   ]
  },
  {
   "cell_type": "code",
   "execution_count": null,
   "id": "d1d13174",
   "metadata": {},
   "outputs": [],
   "source": [
    "#LLMの準備\n",
    "# APIのkeyを挿入\n",
    "api_key = input(\"input your BAM Key\")\n",
    "api_endpoint = \"https://bam-api.res.ibm.com/v1/\"\n",
    "\n",
    "creds = Credentials(api_key=api_key, api_endpoint=api_endpoint)"
   ]
  },
  {
   "cell_type": "code",
   "execution_count": null,
   "id": "2997f27f",
   "metadata": {},
   "outputs": [],
   "source": [
    "# PDFのローディング\n",
    "loaders = [UnstructuredPDFLoader(os.path.join(pdf_folder_path, fn)) for fn in os.listdir(pdf_folder_path)] #ローダー定義\n",
    "documents = [docu.load() for docu in loaders]\n",
    "new_documents = \"\"\n",
    "for i in range(len(documents)):\n",
    "    new_documents += documents[i][0].page_content"
   ]
  },
  {
   "cell_type": "code",
   "execution_count": null,
   "id": "42ab933d",
   "metadata": {},
   "outputs": [],
   "source": [
    "embeddings = HuggingFaceEmbeddings(model_name=\"intfloat/multilingual-e5-large\")\n",
    "\n",
    "if vec in os.listdir(\"vec/\"):\n",
    "    #再利用\n",
    "    index = Chroma(persist_directory=persist_directory, embedding_function=embeddings)\n",
    "else:\n",
    "    \n",
    "    #チャンクの分割\n",
    "    text_splitter = RecursiveCharacterTextSplitter(chunk_size=chunk_limit, chunk_overlap=chunk_overlap)\n",
    "    pdf_text = text_splitter.split_text(new_documents)\n",
    "    \n",
    "    # ドキュメントの読みこみ\n",
    "    index = Chroma.from_texts(pdf_text, embeddings, persist_directory=persist_directory)"
   ]
  },
  {
   "cell_type": "code",
   "execution_count": null,
   "id": "26d209ad",
   "metadata": {},
   "outputs": [],
   "source": [
    "params_qa = GenerateParams(\n",
    "    decoding_method=\"greedy\",\n",
    "    min_new_tokens=3,\n",
    "    max_new_tokens=1500,\n",
    "    stream=False,\n",
    "    repetition_penalty=1.1,\n",
    ").dict() \n",
    "\n",
    "llm_qa = LangChainInterface(model='meta-llama/llama-2-70b-chat', credentials=creds, params=params_qa)"
   ]
  },
  {
   "cell_type": "code",
   "execution_count": null,
   "id": "abebdc63",
   "metadata": {},
   "outputs": [],
   "source": [
    "#リトリーバーの設定(ユーザーから質問を受け取り、ベクターストアに投げかけ、関連コードを返してくれるところ)\n",
    "qa_chain = RetrievalQA.from_chain_type(llm=llm_qa, \n",
    "                                    chain_type=\"stuff\", \n",
    "                                    retriever=index.as_retriever(search_kwargs={'k': 4, 'fetch_k': 50, 'score_threshold': 0.8}), \n",
    "                                    input_key=\"question\")"
   ]
  },
  {
   "cell_type": "code",
   "execution_count": null,
   "id": "5dac8075",
   "metadata": {},
   "outputs": [],
   "source": [
    "def generate_qa(pdf_text, question):\n",
    "    template = \"\"\"<s>[INST] <<SYS>>\n",
    "You are a helpful, respectful and honest assistant in Japanese. Always answer as helpfully as possible, while being safe.  Your answers should not include any harmful, unethical, racist, sexist, toxic, dangerous, or illegal content. Please ensure that your responses are socially unbiased and positive in nature.\n",
    "\n",
    "If a question does not make any sense, or is not factually coherent, explain why instead of answering something not correct. If you don't know the answer to a question, please don't share false information.\n",
    "<</SYS>>\n",
    "\n",
    "あなたは以下の文脈の情報のみを使って最後の質問に答えます。ただし、必ず日本語で回答して下さい。\n",
    "\n",
    "文脈: \n",
    "{ground_text}\n",
    "                \n",
    "質問: \n",
    "{question}[/INST]\n",
    "\n",
    "回答:\"\"\"\n",
    "    prompt = PromptTemplate(\n",
    "        template=template, \n",
    "        input_variables=[\"ground_text\", \"question\"]\n",
    "    )\n",
    "    llm_chain = LLMChain(prompt=prompt, llm=llm_qa, verbose=True)\n",
    "    answer = llm_chain.predict(ground_text=pdf_text, question=question)\n",
    "     \n",
    "    return answer"
   ]
  },
  {
   "cell_type": "code",
   "execution_count": null,
   "id": "b3aaaf51",
   "metadata": {},
   "outputs": [],
   "source": [
    "# Chat UIの起動\n",
    "def add_text(history, text):\n",
    "    history = history + [(text, None)]\n",
    "    return history, \"\"\n",
    "\n",
    "def bot(history):\n",
    "    question = history[-1][0]\n",
    "\n",
    "    retriever = index.as_retriever()\n",
    "    docs = retriever.get_relevant_documents(query=question)\n",
    "    doc = \"\"\n",
    "    # print(f\"\\n参考箇所: \\n {docs}\")\n",
    "    for d in docs:\n",
    "        doc += d.page_content\n",
    "        doc += \"\\n\"\n",
    "\n",
    "    answer = generate_qa(doc, question)\n",
    "    answer = answer\n",
    "    print(f\"\\n回答: \\n {answer}\")\n",
    "\n",
    "    retriever = index.as_retriever()\n",
    "    docs = retriever.get_relevant_documents(query=question)\n",
    "    print(f\"\\n参考箇所: \\n {docs}\")\n",
    "\n",
    "    history[-1][1] = answer\n",
    "    return history\n",
    "\n",
    "with gr.Blocks() as demo:\n",
    "    chatbot = gr.Chatbot([], elem_id=\"chat with PDF\").style(height=600)\n",
    "    with gr.Row():\n",
    "        with gr.Column(scale=0.6):\n",
    "            txt = gr.Textbox(\n",
    "                show_label=False,\n",
    "                placeholder=\"Type your question and press enter\",\n",
    "            ).style(container=False)\n",
    "\n",
    "    txt.submit(add_text, [chatbot, txt], [chatbot, txt]).then(\n",
    "        bot, chatbot, chatbot\n",
    "    )\n",
    "\n",
    "demo.launch()"
   ]
  },
  {
   "cell_type": "code",
   "execution_count": null,
   "id": "605a8de0",
   "metadata": {},
   "outputs": [],
   "source": []
  }
 ],
 "metadata": {
  "kernelspec": {
   "display_name": "Python [conda env:watsonx_demo] *",
   "language": "python",
   "name": "conda-env-watsonx_demo-py"
  },
  "language_info": {
   "codemirror_mode": {
    "name": "ipython",
    "version": 3
   },
   "file_extension": ".py",
   "mimetype": "text/x-python",
   "name": "python",
   "nbconvert_exporter": "python",
   "pygments_lexer": "ipython3",
   "version": "3.11.4"
  }
 },
 "nbformat": 4,
 "nbformat_minor": 5
}
